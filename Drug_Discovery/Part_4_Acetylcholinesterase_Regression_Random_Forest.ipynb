{
 "cells": [
  {
   "cell_type": "markdown",
   "metadata": {
    "colab_type": "text",
    "id": "7AAfh_j7hSwQ"
   },
   "source": [
    "# **Bioinformatics Project - Computational Drug Discovery [Part 4] Regression Models with Random Forest**\n",
    "\n",
    "In this Jupyter notebook, we will be building a real-life **data science project** that you can include in your **data science portfolio**. Particularly, we will be building a machine learning model using the ChEMBL bioactivity data.\n",
    "\n",
    "In **Part 4**, we will be building a regression model of acetylcholinesterase inhibitors using the random forest algorithm.\n",
    "\n",
    "---"
   ]
  },
  {
   "cell_type": "markdown",
   "metadata": {
    "colab_type": "text",
    "id": "jw7MqTMphSwR"
   },
   "source": [
    "## **1. Import libraries**"
   ]
  },
  {
   "cell_type": "code",
   "execution_count": 1,
   "metadata": {
    "colab": {},
    "colab_type": "code",
    "id": "D3rFTNAIhSwS"
   },
   "outputs": [
    {
     "name": "stderr",
     "output_type": "stream",
     "text": [
      "C:\\Users\\fbai_\\AppData\\Local\\Continuum\\anaconda3\\envs\\py38\\lib\\site-packages\\numpy\\_distributor_init.py:30: UserWarning: loaded more than 1 DLL from .libs:\n",
      "C:\\Users\\fbai_\\AppData\\Local\\Continuum\\anaconda3\\envs\\py38\\lib\\site-packages\\numpy\\.libs\\libopenblas.PYQHXLVVQ7VESDPUVUADXEVJOBGHJPAY.gfortran-win_amd64.dll\n",
      "C:\\Users\\fbai_\\AppData\\Local\\Continuum\\anaconda3\\envs\\py38\\lib\\site-packages\\numpy\\.libs\\libopenblas.WCDJNK7YVMPZQ2ME2ZZHJJRJ3JIKNDB7.gfortran-win_amd64.dll\n",
      "C:\\Users\\fbai_\\AppData\\Local\\Continuum\\anaconda3\\envs\\py38\\lib\\site-packages\\numpy\\.libs\\libopenblas.XWYDX2IKJW2NMTWSFYNGFUWKQU3LYTCZ.gfortran-win_amd64.dll\n",
      "  warnings.warn(\"loaded more than 1 DLL from .libs:\"\n"
     ]
    }
   ],
   "source": [
    "import pandas as pd\n",
    "import seaborn as sns\n",
    "from sklearn.model_selection import train_test_split\n",
    "from sklearn.ensemble import RandomForestRegressor"
   ]
  },
  {
   "cell_type": "markdown",
   "metadata": {
    "colab_type": "text",
    "id": "0GvT3PArhSwX"
   },
   "source": [
    "## **2. Load the data set**"
   ]
  },
  {
   "cell_type": "code",
   "execution_count": 2,
   "metadata": {
    "colab": {
     "base_uri": "https://localhost:8080/",
     "height": 289
    },
    "colab_type": "code",
    "id": "043mRJZIhSwY",
    "outputId": "96bc783e-89f4-4013-dc58-376965a73425"
   },
   "outputs": [],
   "source": [
    "#! wget https://github.com/dataprofessor/data/raw/master/acetylcholinesterase_06_bioactivity_data_3class_pIC50_pubchem_fp.csv"
   ]
  },
  {
   "cell_type": "code",
   "execution_count": 3,
   "metadata": {
    "colab": {},
    "colab_type": "code",
    "id": "cSgppzqPiR0G"
   },
   "outputs": [],
   "source": [
    "df = pd.read_csv('acetylcholinesterase_06_bioactivity_data_3class_pIC50_pubchem_fp.csv')"
   ]
  },
  {
   "cell_type": "code",
   "execution_count": 4,
   "metadata": {},
   "outputs": [
    {
     "data": {
      "text/html": [
       "<div>\n",
       "<style scoped>\n",
       "    .dataframe tbody tr th:only-of-type {\n",
       "        vertical-align: middle;\n",
       "    }\n",
       "\n",
       "    .dataframe tbody tr th {\n",
       "        vertical-align: top;\n",
       "    }\n",
       "\n",
       "    .dataframe thead th {\n",
       "        text-align: right;\n",
       "    }\n",
       "</style>\n",
       "<table border=\"1\" class=\"dataframe\">\n",
       "  <thead>\n",
       "    <tr style=\"text-align: right;\">\n",
       "      <th></th>\n",
       "      <th>PubchemFP0</th>\n",
       "      <th>PubchemFP1</th>\n",
       "      <th>PubchemFP2</th>\n",
       "      <th>PubchemFP3</th>\n",
       "      <th>PubchemFP4</th>\n",
       "      <th>PubchemFP5</th>\n",
       "      <th>PubchemFP6</th>\n",
       "      <th>PubchemFP7</th>\n",
       "      <th>PubchemFP8</th>\n",
       "      <th>PubchemFP9</th>\n",
       "      <th>...</th>\n",
       "      <th>PubchemFP872</th>\n",
       "      <th>PubchemFP873</th>\n",
       "      <th>PubchemFP874</th>\n",
       "      <th>PubchemFP875</th>\n",
       "      <th>PubchemFP876</th>\n",
       "      <th>PubchemFP877</th>\n",
       "      <th>PubchemFP878</th>\n",
       "      <th>PubchemFP879</th>\n",
       "      <th>PubchemFP880</th>\n",
       "      <th>pIC50</th>\n",
       "    </tr>\n",
       "  </thead>\n",
       "  <tbody>\n",
       "    <tr>\n",
       "      <th>0</th>\n",
       "      <td>1</td>\n",
       "      <td>1</td>\n",
       "      <td>1</td>\n",
       "      <td>0</td>\n",
       "      <td>0</td>\n",
       "      <td>0</td>\n",
       "      <td>0</td>\n",
       "      <td>0</td>\n",
       "      <td>0</td>\n",
       "      <td>1</td>\n",
       "      <td>...</td>\n",
       "      <td>0</td>\n",
       "      <td>0</td>\n",
       "      <td>0</td>\n",
       "      <td>0</td>\n",
       "      <td>0</td>\n",
       "      <td>0</td>\n",
       "      <td>0</td>\n",
       "      <td>0</td>\n",
       "      <td>0</td>\n",
       "      <td>6.124939</td>\n",
       "    </tr>\n",
       "    <tr>\n",
       "      <th>1</th>\n",
       "      <td>1</td>\n",
       "      <td>1</td>\n",
       "      <td>1</td>\n",
       "      <td>0</td>\n",
       "      <td>0</td>\n",
       "      <td>0</td>\n",
       "      <td>0</td>\n",
       "      <td>0</td>\n",
       "      <td>0</td>\n",
       "      <td>1</td>\n",
       "      <td>...</td>\n",
       "      <td>0</td>\n",
       "      <td>0</td>\n",
       "      <td>0</td>\n",
       "      <td>0</td>\n",
       "      <td>0</td>\n",
       "      <td>0</td>\n",
       "      <td>0</td>\n",
       "      <td>0</td>\n",
       "      <td>0</td>\n",
       "      <td>7.000000</td>\n",
       "    </tr>\n",
       "    <tr>\n",
       "      <th>2</th>\n",
       "      <td>1</td>\n",
       "      <td>1</td>\n",
       "      <td>1</td>\n",
       "      <td>0</td>\n",
       "      <td>0</td>\n",
       "      <td>0</td>\n",
       "      <td>0</td>\n",
       "      <td>0</td>\n",
       "      <td>0</td>\n",
       "      <td>1</td>\n",
       "      <td>...</td>\n",
       "      <td>0</td>\n",
       "      <td>0</td>\n",
       "      <td>0</td>\n",
       "      <td>0</td>\n",
       "      <td>0</td>\n",
       "      <td>0</td>\n",
       "      <td>0</td>\n",
       "      <td>0</td>\n",
       "      <td>0</td>\n",
       "      <td>4.301030</td>\n",
       "    </tr>\n",
       "    <tr>\n",
       "      <th>3</th>\n",
       "      <td>1</td>\n",
       "      <td>1</td>\n",
       "      <td>0</td>\n",
       "      <td>0</td>\n",
       "      <td>0</td>\n",
       "      <td>0</td>\n",
       "      <td>0</td>\n",
       "      <td>0</td>\n",
       "      <td>0</td>\n",
       "      <td>1</td>\n",
       "      <td>...</td>\n",
       "      <td>0</td>\n",
       "      <td>0</td>\n",
       "      <td>0</td>\n",
       "      <td>0</td>\n",
       "      <td>0</td>\n",
       "      <td>0</td>\n",
       "      <td>0</td>\n",
       "      <td>0</td>\n",
       "      <td>0</td>\n",
       "      <td>6.522879</td>\n",
       "    </tr>\n",
       "    <tr>\n",
       "      <th>4</th>\n",
       "      <td>1</td>\n",
       "      <td>1</td>\n",
       "      <td>0</td>\n",
       "      <td>0</td>\n",
       "      <td>0</td>\n",
       "      <td>0</td>\n",
       "      <td>0</td>\n",
       "      <td>0</td>\n",
       "      <td>0</td>\n",
       "      <td>1</td>\n",
       "      <td>...</td>\n",
       "      <td>0</td>\n",
       "      <td>0</td>\n",
       "      <td>0</td>\n",
       "      <td>0</td>\n",
       "      <td>0</td>\n",
       "      <td>0</td>\n",
       "      <td>0</td>\n",
       "      <td>0</td>\n",
       "      <td>0</td>\n",
       "      <td>6.096910</td>\n",
       "    </tr>\n",
       "    <tr>\n",
       "      <th>...</th>\n",
       "      <td>...</td>\n",
       "      <td>...</td>\n",
       "      <td>...</td>\n",
       "      <td>...</td>\n",
       "      <td>...</td>\n",
       "      <td>...</td>\n",
       "      <td>...</td>\n",
       "      <td>...</td>\n",
       "      <td>...</td>\n",
       "      <td>...</td>\n",
       "      <td>...</td>\n",
       "      <td>...</td>\n",
       "      <td>...</td>\n",
       "      <td>...</td>\n",
       "      <td>...</td>\n",
       "      <td>...</td>\n",
       "      <td>...</td>\n",
       "      <td>...</td>\n",
       "      <td>...</td>\n",
       "      <td>...</td>\n",
       "      <td>...</td>\n",
       "    </tr>\n",
       "    <tr>\n",
       "      <th>4690</th>\n",
       "      <td>1</td>\n",
       "      <td>1</td>\n",
       "      <td>1</td>\n",
       "      <td>1</td>\n",
       "      <td>0</td>\n",
       "      <td>0</td>\n",
       "      <td>0</td>\n",
       "      <td>0</td>\n",
       "      <td>0</td>\n",
       "      <td>1</td>\n",
       "      <td>...</td>\n",
       "      <td>0</td>\n",
       "      <td>0</td>\n",
       "      <td>0</td>\n",
       "      <td>0</td>\n",
       "      <td>0</td>\n",
       "      <td>0</td>\n",
       "      <td>0</td>\n",
       "      <td>0</td>\n",
       "      <td>0</td>\n",
       "      <td>5.612610</td>\n",
       "    </tr>\n",
       "    <tr>\n",
       "      <th>4691</th>\n",
       "      <td>1</td>\n",
       "      <td>1</td>\n",
       "      <td>1</td>\n",
       "      <td>1</td>\n",
       "      <td>0</td>\n",
       "      <td>0</td>\n",
       "      <td>0</td>\n",
       "      <td>0</td>\n",
       "      <td>0</td>\n",
       "      <td>1</td>\n",
       "      <td>...</td>\n",
       "      <td>0</td>\n",
       "      <td>0</td>\n",
       "      <td>0</td>\n",
       "      <td>0</td>\n",
       "      <td>0</td>\n",
       "      <td>0</td>\n",
       "      <td>0</td>\n",
       "      <td>0</td>\n",
       "      <td>0</td>\n",
       "      <td>5.595166</td>\n",
       "    </tr>\n",
       "    <tr>\n",
       "      <th>4692</th>\n",
       "      <td>1</td>\n",
       "      <td>1</td>\n",
       "      <td>1</td>\n",
       "      <td>1</td>\n",
       "      <td>0</td>\n",
       "      <td>0</td>\n",
       "      <td>0</td>\n",
       "      <td>0</td>\n",
       "      <td>0</td>\n",
       "      <td>1</td>\n",
       "      <td>...</td>\n",
       "      <td>0</td>\n",
       "      <td>0</td>\n",
       "      <td>0</td>\n",
       "      <td>0</td>\n",
       "      <td>0</td>\n",
       "      <td>0</td>\n",
       "      <td>0</td>\n",
       "      <td>0</td>\n",
       "      <td>0</td>\n",
       "      <td>5.419075</td>\n",
       "    </tr>\n",
       "    <tr>\n",
       "      <th>4693</th>\n",
       "      <td>1</td>\n",
       "      <td>1</td>\n",
       "      <td>1</td>\n",
       "      <td>1</td>\n",
       "      <td>0</td>\n",
       "      <td>0</td>\n",
       "      <td>0</td>\n",
       "      <td>0</td>\n",
       "      <td>0</td>\n",
       "      <td>1</td>\n",
       "      <td>...</td>\n",
       "      <td>0</td>\n",
       "      <td>0</td>\n",
       "      <td>0</td>\n",
       "      <td>0</td>\n",
       "      <td>0</td>\n",
       "      <td>0</td>\n",
       "      <td>0</td>\n",
       "      <td>0</td>\n",
       "      <td>0</td>\n",
       "      <td>5.460924</td>\n",
       "    </tr>\n",
       "    <tr>\n",
       "      <th>4694</th>\n",
       "      <td>1</td>\n",
       "      <td>1</td>\n",
       "      <td>1</td>\n",
       "      <td>1</td>\n",
       "      <td>0</td>\n",
       "      <td>0</td>\n",
       "      <td>0</td>\n",
       "      <td>0</td>\n",
       "      <td>0</td>\n",
       "      <td>1</td>\n",
       "      <td>...</td>\n",
       "      <td>0</td>\n",
       "      <td>0</td>\n",
       "      <td>0</td>\n",
       "      <td>0</td>\n",
       "      <td>0</td>\n",
       "      <td>0</td>\n",
       "      <td>0</td>\n",
       "      <td>0</td>\n",
       "      <td>0</td>\n",
       "      <td>5.555955</td>\n",
       "    </tr>\n",
       "  </tbody>\n",
       "</table>\n",
       "<p>4695 rows × 882 columns</p>\n",
       "</div>"
      ],
      "text/plain": [
       "      PubchemFP0  PubchemFP1  PubchemFP2  PubchemFP3  PubchemFP4  PubchemFP5  \\\n",
       "0              1           1           1           0           0           0   \n",
       "1              1           1           1           0           0           0   \n",
       "2              1           1           1           0           0           0   \n",
       "3              1           1           0           0           0           0   \n",
       "4              1           1           0           0           0           0   \n",
       "...          ...         ...         ...         ...         ...         ...   \n",
       "4690           1           1           1           1           0           0   \n",
       "4691           1           1           1           1           0           0   \n",
       "4692           1           1           1           1           0           0   \n",
       "4693           1           1           1           1           0           0   \n",
       "4694           1           1           1           1           0           0   \n",
       "\n",
       "      PubchemFP6  PubchemFP7  PubchemFP8  PubchemFP9  ...  PubchemFP872  \\\n",
       "0              0           0           0           1  ...             0   \n",
       "1              0           0           0           1  ...             0   \n",
       "2              0           0           0           1  ...             0   \n",
       "3              0           0           0           1  ...             0   \n",
       "4              0           0           0           1  ...             0   \n",
       "...          ...         ...         ...         ...  ...           ...   \n",
       "4690           0           0           0           1  ...             0   \n",
       "4691           0           0           0           1  ...             0   \n",
       "4692           0           0           0           1  ...             0   \n",
       "4693           0           0           0           1  ...             0   \n",
       "4694           0           0           0           1  ...             0   \n",
       "\n",
       "      PubchemFP873  PubchemFP874  PubchemFP875  PubchemFP876  PubchemFP877  \\\n",
       "0                0             0             0             0             0   \n",
       "1                0             0             0             0             0   \n",
       "2                0             0             0             0             0   \n",
       "3                0             0             0             0             0   \n",
       "4                0             0             0             0             0   \n",
       "...            ...           ...           ...           ...           ...   \n",
       "4690             0             0             0             0             0   \n",
       "4691             0             0             0             0             0   \n",
       "4692             0             0             0             0             0   \n",
       "4693             0             0             0             0             0   \n",
       "4694             0             0             0             0             0   \n",
       "\n",
       "      PubchemFP878  PubchemFP879  PubchemFP880     pIC50  \n",
       "0                0             0             0  6.124939  \n",
       "1                0             0             0  7.000000  \n",
       "2                0             0             0  4.301030  \n",
       "3                0             0             0  6.522879  \n",
       "4                0             0             0  6.096910  \n",
       "...            ...           ...           ...       ...  \n",
       "4690             0             0             0  5.612610  \n",
       "4691             0             0             0  5.595166  \n",
       "4692             0             0             0  5.419075  \n",
       "4693             0             0             0  5.460924  \n",
       "4694             0             0             0  5.555955  \n",
       "\n",
       "[4695 rows x 882 columns]"
      ]
     },
     "execution_count": 4,
     "metadata": {},
     "output_type": "execute_result"
    }
   ],
   "source": [
    "df"
   ]
  },
  {
   "cell_type": "markdown",
   "metadata": {
    "colab_type": "text",
    "id": "kuiiC0xthSwb"
   },
   "source": [
    "## **3. Input features**\n",
    "The ***Acetylcholinesterase*** data set contains 881 input features and 1 output variable (pIC50 values)."
   ]
  },
  {
   "cell_type": "markdown",
   "metadata": {
    "colab_type": "text",
    "id": "iCeQQn0uhSwb"
   },
   "source": [
    "### **3.1. Input features**"
   ]
  },
  {
   "cell_type": "code",
   "execution_count": 5,
   "metadata": {
    "colab": {
     "base_uri": "https://localhost:8080/",
     "height": 439
    },
    "colab_type": "code",
    "id": "li32nAPohSwc",
    "outputId": "e3cbf177-e82b-4e57-c32a-af9ab924dda8",
    "scrolled": true
   },
   "outputs": [
    {
     "data": {
      "text/html": [
       "<div>\n",
       "<style scoped>\n",
       "    .dataframe tbody tr th:only-of-type {\n",
       "        vertical-align: middle;\n",
       "    }\n",
       "\n",
       "    .dataframe tbody tr th {\n",
       "        vertical-align: top;\n",
       "    }\n",
       "\n",
       "    .dataframe thead th {\n",
       "        text-align: right;\n",
       "    }\n",
       "</style>\n",
       "<table border=\"1\" class=\"dataframe\">\n",
       "  <thead>\n",
       "    <tr style=\"text-align: right;\">\n",
       "      <th></th>\n",
       "      <th>PubchemFP0</th>\n",
       "      <th>PubchemFP1</th>\n",
       "      <th>PubchemFP2</th>\n",
       "      <th>PubchemFP3</th>\n",
       "      <th>PubchemFP4</th>\n",
       "      <th>PubchemFP5</th>\n",
       "      <th>PubchemFP6</th>\n",
       "      <th>PubchemFP7</th>\n",
       "      <th>PubchemFP8</th>\n",
       "      <th>PubchemFP9</th>\n",
       "      <th>...</th>\n",
       "      <th>PubchemFP871</th>\n",
       "      <th>PubchemFP872</th>\n",
       "      <th>PubchemFP873</th>\n",
       "      <th>PubchemFP874</th>\n",
       "      <th>PubchemFP875</th>\n",
       "      <th>PubchemFP876</th>\n",
       "      <th>PubchemFP877</th>\n",
       "      <th>PubchemFP878</th>\n",
       "      <th>PubchemFP879</th>\n",
       "      <th>PubchemFP880</th>\n",
       "    </tr>\n",
       "  </thead>\n",
       "  <tbody>\n",
       "    <tr>\n",
       "      <th>0</th>\n",
       "      <td>1</td>\n",
       "      <td>1</td>\n",
       "      <td>1</td>\n",
       "      <td>0</td>\n",
       "      <td>0</td>\n",
       "      <td>0</td>\n",
       "      <td>0</td>\n",
       "      <td>0</td>\n",
       "      <td>0</td>\n",
       "      <td>1</td>\n",
       "      <td>...</td>\n",
       "      <td>0</td>\n",
       "      <td>0</td>\n",
       "      <td>0</td>\n",
       "      <td>0</td>\n",
       "      <td>0</td>\n",
       "      <td>0</td>\n",
       "      <td>0</td>\n",
       "      <td>0</td>\n",
       "      <td>0</td>\n",
       "      <td>0</td>\n",
       "    </tr>\n",
       "    <tr>\n",
       "      <th>1</th>\n",
       "      <td>1</td>\n",
       "      <td>1</td>\n",
       "      <td>1</td>\n",
       "      <td>0</td>\n",
       "      <td>0</td>\n",
       "      <td>0</td>\n",
       "      <td>0</td>\n",
       "      <td>0</td>\n",
       "      <td>0</td>\n",
       "      <td>1</td>\n",
       "      <td>...</td>\n",
       "      <td>0</td>\n",
       "      <td>0</td>\n",
       "      <td>0</td>\n",
       "      <td>0</td>\n",
       "      <td>0</td>\n",
       "      <td>0</td>\n",
       "      <td>0</td>\n",
       "      <td>0</td>\n",
       "      <td>0</td>\n",
       "      <td>0</td>\n",
       "    </tr>\n",
       "    <tr>\n",
       "      <th>2</th>\n",
       "      <td>1</td>\n",
       "      <td>1</td>\n",
       "      <td>1</td>\n",
       "      <td>0</td>\n",
       "      <td>0</td>\n",
       "      <td>0</td>\n",
       "      <td>0</td>\n",
       "      <td>0</td>\n",
       "      <td>0</td>\n",
       "      <td>1</td>\n",
       "      <td>...</td>\n",
       "      <td>0</td>\n",
       "      <td>0</td>\n",
       "      <td>0</td>\n",
       "      <td>0</td>\n",
       "      <td>0</td>\n",
       "      <td>0</td>\n",
       "      <td>0</td>\n",
       "      <td>0</td>\n",
       "      <td>0</td>\n",
       "      <td>0</td>\n",
       "    </tr>\n",
       "    <tr>\n",
       "      <th>3</th>\n",
       "      <td>1</td>\n",
       "      <td>1</td>\n",
       "      <td>0</td>\n",
       "      <td>0</td>\n",
       "      <td>0</td>\n",
       "      <td>0</td>\n",
       "      <td>0</td>\n",
       "      <td>0</td>\n",
       "      <td>0</td>\n",
       "      <td>1</td>\n",
       "      <td>...</td>\n",
       "      <td>0</td>\n",
       "      <td>0</td>\n",
       "      <td>0</td>\n",
       "      <td>0</td>\n",
       "      <td>0</td>\n",
       "      <td>0</td>\n",
       "      <td>0</td>\n",
       "      <td>0</td>\n",
       "      <td>0</td>\n",
       "      <td>0</td>\n",
       "    </tr>\n",
       "    <tr>\n",
       "      <th>4</th>\n",
       "      <td>1</td>\n",
       "      <td>1</td>\n",
       "      <td>0</td>\n",
       "      <td>0</td>\n",
       "      <td>0</td>\n",
       "      <td>0</td>\n",
       "      <td>0</td>\n",
       "      <td>0</td>\n",
       "      <td>0</td>\n",
       "      <td>1</td>\n",
       "      <td>...</td>\n",
       "      <td>0</td>\n",
       "      <td>0</td>\n",
       "      <td>0</td>\n",
       "      <td>0</td>\n",
       "      <td>0</td>\n",
       "      <td>0</td>\n",
       "      <td>0</td>\n",
       "      <td>0</td>\n",
       "      <td>0</td>\n",
       "      <td>0</td>\n",
       "    </tr>\n",
       "    <tr>\n",
       "      <th>...</th>\n",
       "      <td>...</td>\n",
       "      <td>...</td>\n",
       "      <td>...</td>\n",
       "      <td>...</td>\n",
       "      <td>...</td>\n",
       "      <td>...</td>\n",
       "      <td>...</td>\n",
       "      <td>...</td>\n",
       "      <td>...</td>\n",
       "      <td>...</td>\n",
       "      <td>...</td>\n",
       "      <td>...</td>\n",
       "      <td>...</td>\n",
       "      <td>...</td>\n",
       "      <td>...</td>\n",
       "      <td>...</td>\n",
       "      <td>...</td>\n",
       "      <td>...</td>\n",
       "      <td>...</td>\n",
       "      <td>...</td>\n",
       "      <td>...</td>\n",
       "    </tr>\n",
       "    <tr>\n",
       "      <th>4690</th>\n",
       "      <td>1</td>\n",
       "      <td>1</td>\n",
       "      <td>1</td>\n",
       "      <td>1</td>\n",
       "      <td>0</td>\n",
       "      <td>0</td>\n",
       "      <td>0</td>\n",
       "      <td>0</td>\n",
       "      <td>0</td>\n",
       "      <td>1</td>\n",
       "      <td>...</td>\n",
       "      <td>0</td>\n",
       "      <td>0</td>\n",
       "      <td>0</td>\n",
       "      <td>0</td>\n",
       "      <td>0</td>\n",
       "      <td>0</td>\n",
       "      <td>0</td>\n",
       "      <td>0</td>\n",
       "      <td>0</td>\n",
       "      <td>0</td>\n",
       "    </tr>\n",
       "    <tr>\n",
       "      <th>4691</th>\n",
       "      <td>1</td>\n",
       "      <td>1</td>\n",
       "      <td>1</td>\n",
       "      <td>1</td>\n",
       "      <td>0</td>\n",
       "      <td>0</td>\n",
       "      <td>0</td>\n",
       "      <td>0</td>\n",
       "      <td>0</td>\n",
       "      <td>1</td>\n",
       "      <td>...</td>\n",
       "      <td>0</td>\n",
       "      <td>0</td>\n",
       "      <td>0</td>\n",
       "      <td>0</td>\n",
       "      <td>0</td>\n",
       "      <td>0</td>\n",
       "      <td>0</td>\n",
       "      <td>0</td>\n",
       "      <td>0</td>\n",
       "      <td>0</td>\n",
       "    </tr>\n",
       "    <tr>\n",
       "      <th>4692</th>\n",
       "      <td>1</td>\n",
       "      <td>1</td>\n",
       "      <td>1</td>\n",
       "      <td>1</td>\n",
       "      <td>0</td>\n",
       "      <td>0</td>\n",
       "      <td>0</td>\n",
       "      <td>0</td>\n",
       "      <td>0</td>\n",
       "      <td>1</td>\n",
       "      <td>...</td>\n",
       "      <td>0</td>\n",
       "      <td>0</td>\n",
       "      <td>0</td>\n",
       "      <td>0</td>\n",
       "      <td>0</td>\n",
       "      <td>0</td>\n",
       "      <td>0</td>\n",
       "      <td>0</td>\n",
       "      <td>0</td>\n",
       "      <td>0</td>\n",
       "    </tr>\n",
       "    <tr>\n",
       "      <th>4693</th>\n",
       "      <td>1</td>\n",
       "      <td>1</td>\n",
       "      <td>1</td>\n",
       "      <td>1</td>\n",
       "      <td>0</td>\n",
       "      <td>0</td>\n",
       "      <td>0</td>\n",
       "      <td>0</td>\n",
       "      <td>0</td>\n",
       "      <td>1</td>\n",
       "      <td>...</td>\n",
       "      <td>0</td>\n",
       "      <td>0</td>\n",
       "      <td>0</td>\n",
       "      <td>0</td>\n",
       "      <td>0</td>\n",
       "      <td>0</td>\n",
       "      <td>0</td>\n",
       "      <td>0</td>\n",
       "      <td>0</td>\n",
       "      <td>0</td>\n",
       "    </tr>\n",
       "    <tr>\n",
       "      <th>4694</th>\n",
       "      <td>1</td>\n",
       "      <td>1</td>\n",
       "      <td>1</td>\n",
       "      <td>1</td>\n",
       "      <td>0</td>\n",
       "      <td>0</td>\n",
       "      <td>0</td>\n",
       "      <td>0</td>\n",
       "      <td>0</td>\n",
       "      <td>1</td>\n",
       "      <td>...</td>\n",
       "      <td>0</td>\n",
       "      <td>0</td>\n",
       "      <td>0</td>\n",
       "      <td>0</td>\n",
       "      <td>0</td>\n",
       "      <td>0</td>\n",
       "      <td>0</td>\n",
       "      <td>0</td>\n",
       "      <td>0</td>\n",
       "      <td>0</td>\n",
       "    </tr>\n",
       "  </tbody>\n",
       "</table>\n",
       "<p>4695 rows × 881 columns</p>\n",
       "</div>"
      ],
      "text/plain": [
       "      PubchemFP0  PubchemFP1  PubchemFP2  PubchemFP3  PubchemFP4  PubchemFP5  \\\n",
       "0              1           1           1           0           0           0   \n",
       "1              1           1           1           0           0           0   \n",
       "2              1           1           1           0           0           0   \n",
       "3              1           1           0           0           0           0   \n",
       "4              1           1           0           0           0           0   \n",
       "...          ...         ...         ...         ...         ...         ...   \n",
       "4690           1           1           1           1           0           0   \n",
       "4691           1           1           1           1           0           0   \n",
       "4692           1           1           1           1           0           0   \n",
       "4693           1           1           1           1           0           0   \n",
       "4694           1           1           1           1           0           0   \n",
       "\n",
       "      PubchemFP6  PubchemFP7  PubchemFP8  PubchemFP9  ...  PubchemFP871  \\\n",
       "0              0           0           0           1  ...             0   \n",
       "1              0           0           0           1  ...             0   \n",
       "2              0           0           0           1  ...             0   \n",
       "3              0           0           0           1  ...             0   \n",
       "4              0           0           0           1  ...             0   \n",
       "...          ...         ...         ...         ...  ...           ...   \n",
       "4690           0           0           0           1  ...             0   \n",
       "4691           0           0           0           1  ...             0   \n",
       "4692           0           0           0           1  ...             0   \n",
       "4693           0           0           0           1  ...             0   \n",
       "4694           0           0           0           1  ...             0   \n",
       "\n",
       "      PubchemFP872  PubchemFP873  PubchemFP874  PubchemFP875  PubchemFP876  \\\n",
       "0                0             0             0             0             0   \n",
       "1                0             0             0             0             0   \n",
       "2                0             0             0             0             0   \n",
       "3                0             0             0             0             0   \n",
       "4                0             0             0             0             0   \n",
       "...            ...           ...           ...           ...           ...   \n",
       "4690             0             0             0             0             0   \n",
       "4691             0             0             0             0             0   \n",
       "4692             0             0             0             0             0   \n",
       "4693             0             0             0             0             0   \n",
       "4694             0             0             0             0             0   \n",
       "\n",
       "      PubchemFP877  PubchemFP878  PubchemFP879  PubchemFP880  \n",
       "0                0             0             0             0  \n",
       "1                0             0             0             0  \n",
       "2                0             0             0             0  \n",
       "3                0             0             0             0  \n",
       "4                0             0             0             0  \n",
       "...            ...           ...           ...           ...  \n",
       "4690             0             0             0             0  \n",
       "4691             0             0             0             0  \n",
       "4692             0             0             0             0  \n",
       "4693             0             0             0             0  \n",
       "4694             0             0             0             0  \n",
       "\n",
       "[4695 rows x 881 columns]"
      ]
     },
     "execution_count": 5,
     "metadata": {},
     "output_type": "execute_result"
    }
   ],
   "source": [
    "X = df.drop('pIC50', axis=1)\n",
    "X"
   ]
  },
  {
   "cell_type": "markdown",
   "metadata": {
    "colab_type": "text",
    "id": "sGQjCQtfhSwg"
   },
   "source": [
    "### **3.2. Output features**"
   ]
  },
  {
   "cell_type": "code",
   "execution_count": 6,
   "metadata": {
    "colab": {
     "base_uri": "https://localhost:8080/",
     "height": 221
    },
    "colab_type": "code",
    "id": "OWylAtAVhSwh",
    "outputId": "5747e12a-3abb-4e43-fc1c-c8dbe42f3992"
   },
   "outputs": [
    {
     "data": {
      "text/plain": [
       "0       6.124939\n",
       "1       7.000000\n",
       "2       4.301030\n",
       "3       6.522879\n",
       "4       6.096910\n",
       "          ...   \n",
       "4690    5.612610\n",
       "4691    5.595166\n",
       "4692    5.419075\n",
       "4693    5.460924\n",
       "4694    5.555955\n",
       "Name: pIC50, Length: 4695, dtype: float64"
      ]
     },
     "execution_count": 6,
     "metadata": {},
     "output_type": "execute_result"
    }
   ],
   "source": [
    "Y = df.pIC50\n",
    "Y"
   ]
  },
  {
   "cell_type": "markdown",
   "metadata": {
    "colab_type": "text",
    "id": "E-zGSqXohSwx"
   },
   "source": [
    "### **3.3. Let's examine the data dimension**"
   ]
  },
  {
   "cell_type": "code",
   "execution_count": 7,
   "metadata": {
    "colab": {
     "base_uri": "https://localhost:8080/",
     "height": 34
    },
    "colab_type": "code",
    "id": "nhT04XtLhSwx",
    "outputId": "0e36315c-a8c1-4d11-8e99-8a92038ff80d"
   },
   "outputs": [
    {
     "data": {
      "text/plain": [
       "(4695, 881)"
      ]
     },
     "execution_count": 7,
     "metadata": {},
     "output_type": "execute_result"
    }
   ],
   "source": [
    "X.shape"
   ]
  },
  {
   "cell_type": "code",
   "execution_count": 8,
   "metadata": {
    "colab": {
     "base_uri": "https://localhost:8080/",
     "height": 34
    },
    "colab_type": "code",
    "id": "uzQlK8gNhSw0",
    "outputId": "6526f2b6-8875-49f4-bd38-dc2db7225e52"
   },
   "outputs": [
    {
     "data": {
      "text/plain": [
       "(4695,)"
      ]
     },
     "execution_count": 8,
     "metadata": {},
     "output_type": "execute_result"
    }
   ],
   "source": [
    "Y.shape"
   ]
  },
  {
   "cell_type": "markdown",
   "metadata": {
    "colab_type": "text",
    "id": "0qQCpX097qf_"
   },
   "source": [
    "### **3.4. Remove low variance features**"
   ]
  },
  {
   "cell_type": "code",
   "execution_count": 9,
   "metadata": {
    "colab": {},
    "colab_type": "code",
    "id": "rjHK2SoI7tXI"
   },
   "outputs": [],
   "source": [
    "from sklearn.feature_selection import VarianceThreshold\n",
    "selection = VarianceThreshold(threshold=(.8 * (1 - .8)))    \n",
    "X = selection.fit_transform(X)"
   ]
  },
  {
   "cell_type": "code",
   "execution_count": 10,
   "metadata": {
    "colab": {
     "base_uri": "https://localhost:8080/",
     "height": 34
    },
    "colab_type": "code",
    "id": "nXcpQh_s8nx7",
    "outputId": "cb3a135a-9b96-4f69-bb28-538ae4be7d5d"
   },
   "outputs": [
    {
     "data": {
      "text/plain": [
       "(4695, 137)"
      ]
     },
     "execution_count": 10,
     "metadata": {},
     "output_type": "execute_result"
    }
   ],
   "source": [
    "X.shape"
   ]
  },
  {
   "cell_type": "markdown",
   "metadata": {
    "colab_type": "text",
    "id": "AjhOlkOVhSxR"
   },
   "source": [
    "## **4. Data split (80/20 ratio)**"
   ]
  },
  {
   "cell_type": "code",
   "execution_count": 11,
   "metadata": {
    "colab": {},
    "colab_type": "code",
    "id": "M1Bmg1HWhSxR"
   },
   "outputs": [],
   "source": [
    "X_train, X_test, Y_train, Y_test = train_test_split(X, Y, test_size=0.2)"
   ]
  },
  {
   "cell_type": "code",
   "execution_count": 12,
   "metadata": {
    "colab": {
     "base_uri": "https://localhost:8080/",
     "height": 34
    },
    "colab_type": "code",
    "id": "uz1o3c1LhSxU",
    "outputId": "dc0b23f3-eebc-4159-ae71-6d9e27ce9e26"
   },
   "outputs": [
    {
     "data": {
      "text/plain": [
       "((3756, 137), (3756,))"
      ]
     },
     "execution_count": 12,
     "metadata": {},
     "output_type": "execute_result"
    }
   ],
   "source": [
    "X_train.shape, Y_train.shape"
   ]
  },
  {
   "cell_type": "code",
   "execution_count": 13,
   "metadata": {
    "colab": {
     "base_uri": "https://localhost:8080/",
     "height": 34
    },
    "colab_type": "code",
    "id": "4tnwDASChSxW",
    "outputId": "15c12f57-053b-4e28-afe1-b403510fd6ea"
   },
   "outputs": [
    {
     "data": {
      "text/plain": [
       "((939, 137), (939,))"
      ]
     },
     "execution_count": 13,
     "metadata": {},
     "output_type": "execute_result"
    }
   ],
   "source": [
    "X_test.shape, Y_test.shape"
   ]
  },
  {
   "cell_type": "markdown",
   "metadata": {
    "colab_type": "text",
    "id": "PYsE-tIAhSw3"
   },
   "source": [
    "## **5. Building a Regression Model using Random Forest**"
   ]
  },
  {
   "cell_type": "code",
   "execution_count": 14,
   "metadata": {
    "colab": {
     "base_uri": "https://localhost:8080/",
     "height": 34
    },
    "colab_type": "code",
    "id": "YHM3DCD5wuNe",
    "outputId": "42a4752a-c4ea-414d-ac19-dff9c64cfbcb"
   },
   "outputs": [
    {
     "data": {
      "text/plain": [
       "0.5364937571954979"
      ]
     },
     "execution_count": 14,
     "metadata": {},
     "output_type": "execute_result"
    }
   ],
   "source": [
    "model = RandomForestRegressor(n_estimators=100)\n",
    "model.fit(X_train, Y_train)\n",
    "r2 = model.score(X_test, Y_test)\n",
    "r2"
   ]
  },
  {
   "cell_type": "code",
   "execution_count": 15,
   "metadata": {
    "colab": {},
    "colab_type": "code",
    "id": "A4Rv5wdQ1M6H"
   },
   "outputs": [],
   "source": [
    "Y_pred = model.predict(X_test)"
   ]
  },
  {
   "cell_type": "code",
   "execution_count": 16,
   "metadata": {},
   "outputs": [
    {
     "data": {
      "text/plain": [
       "array([ 7.01083307,  5.64875465,  4.60826185,  6.58922807,  7.01671933,\n",
       "        6.53265774,  4.81972194,  7.25364255,  6.34758779,  5.60006489,\n",
       "        4.76133543,  6.32346073,  6.2106397 ,  6.20538029,  7.25184895,\n",
       "        6.24107832,  5.3821057 ,  6.37066763,  5.14056315,  4.7109852 ,\n",
       "        3.0406084 ,  6.89649271,  5.16328986,  5.87136242,  5.08066726,\n",
       "        6.92081223,  7.19416037,  5.2610625 ,  4.25919015,  4.38260549,\n",
       "        3.54800183,  6.7467191 ,  4.79827882,  6.55073009,  8.00479314,\n",
       "        5.98081152,  4.70547168,  4.97980893,  6.04127525,  5.26214292,\n",
       "        6.16401321,  7.85024518,  5.47567536,  6.87704252,  5.50611093,\n",
       "        5.81018812,  5.60285714,  5.97881775,  4.94411901,  6.9086795 ,\n",
       "        4.91951111,  6.70503288,  5.67003214,  4.6182121 ,  6.21339001,\n",
       "        7.35288915,  4.8622224 ,  4.41924496,  5.67005572,  6.25264179,\n",
       "        7.71572628,  5.64124159,  5.73396985,  4.30103   ,  5.5238881 ,\n",
       "        5.52565165,  4.97398626,  6.13988654,  5.52287875,  5.19772167,\n",
       "        5.0321978 ,  7.08978892,  6.58678458,  5.55943966,  6.43426527,\n",
       "        7.97215644,  5.7722195 ,  6.57026008,  4.69758782,  5.17720022,\n",
       "        4.76141807,  6.19965981,  7.78171334,  6.76219391,  6.21560382,\n",
       "        7.78831393,  5.1696631 ,  5.1608734 ,  7.64184541,  4.9813455 ,\n",
       "        4.09636108,  5.55943966,  5.20460933,  6.35422601,  7.09543218,\n",
       "        4.9822983 ,  6.57615004,  9.06656006,  6.79109784,  6.32377835,\n",
       "        5.25106498,  4.00232536,  5.4847926 ,  5.22955451,  4.6485055 ,\n",
       "        6.64745066,  5.5192839 ,  6.00951181,  4.62656873,  6.2930717 ,\n",
       "        6.06537725,  4.79064079,  5.52287875,  7.35096385,  6.2106397 ,\n",
       "        3.60207376,  5.        ,  5.76745533,  6.98130663,  5.27499271,\n",
       "        5.71060419,  8.07107769,  5.10259922,  5.87695712,  4.81232166,\n",
       "        6.62813107,  6.24107832,  5.60925428,  6.38812349,  5.36168629,\n",
       "        8.07107769,  6.87704252,  6.05847402,  5.64986172,  4.39009558,\n",
       "        6.57026008,  6.64976657,  5.2695731 ,  6.21560382,  7.93824678,\n",
       "        6.30904021,  5.2880504 ,  7.35096385,  6.83836041,  5.59101935,\n",
       "        5.94335266,  6.7362778 ,  7.48023701,  6.64909912,  8.68323283,\n",
       "        6.28129575,  4.66252902,  7.59523435,  5.57121632,  7.46048697,\n",
       "        7.58868999,  4.50829957,  5.92824653,  5.09059519,  6.12148274,\n",
       "        6.57665802,  6.77646523,  5.52640239,  4.62612455,  4.56330352,\n",
       "        5.73269124,  5.16278237,  7.69193013,  4.40036477,  6.45311245,\n",
       "        9.51446655,  6.30714207,  5.13355616,  6.21296678,  7.11210773,\n",
       "        5.5238881 ,  7.25184895,  4.73152896,  5.20512576,  5.77893623,\n",
       "        6.14802547,  6.64976657,  5.55345502,  5.60006489,  5.16871314,\n",
       "        5.47769979,  3.01609122,  3.29770269,  6.99460933,  4.11705065,\n",
       "        8.93615455,  2.93896452,  6.94503447,  4.89728206,  6.93806372,\n",
       "        5.59694686,  6.10121168,  6.21339001,  5.35512853,  6.04668547,\n",
       "        6.45610759,  5.54211581,  5.94729949,  5.83118224,  5.96511159,\n",
       "        5.87606157,  6.18751659,  2.54856952,  6.94503447,  7.1769343 ,\n",
       "        4.35833562,  6.16535758,  4.54372945,  5.63614744,  5.13561347,\n",
       "        9.06465351,  7.95059011,  4.50601383,  6.33374793,  4.90724214,\n",
       "        5.01267959,  5.46995377,  5.92840884,  4.81127906,  6.21339001,\n",
       "        5.97293875,  5.70593484,  6.63237808,  6.21560382,  6.90979391,\n",
       "        6.87030141,  4.07980359,  5.34194536,  3.68287135,  6.9432856 ,\n",
       "        5.99760098,  5.63614744,  6.58073458,  4.19004939,  4.46116088,\n",
       "        6.81033432,  4.06207966,  6.70320456,  7.17763268,  5.51229228,\n",
       "        5.55175486,  7.73387242,  6.3358438 ,  6.20550211,  6.83836041,\n",
       "        6.14183286,  5.35451324,  6.27131095,  6.86304875,  4.42692518,\n",
       "        6.83655769,  5.81989111,  5.06708254,  4.66954774,  3.50421478,\n",
       "        9.06656006,  4.63129804,  3.1987424 ,  7.74586394,  3.60821479,\n",
       "        4.56533701,  6.47761827,  5.45748442,  7.1821766 ,  4.45231035,\n",
       "        5.11391231,  5.67446322,  7.58443307,  5.17720022,  7.09255783,\n",
       "        6.65368374,  6.37298602,  6.5089837 ,  5.8131127 ,  6.49540838,\n",
       "        7.78171334,  4.48385346,  4.78254228,  4.42076644,  5.26709235,\n",
       "        6.31908735,  6.19244421,  6.49305816,  8.84092793,  5.09059519,\n",
       "        5.11796211,  5.90010645,  5.2695731 ,  7.151088  ,  5.10212475,\n",
       "        5.35306255,  5.98081152,  5.97276849,  6.65368374,  5.55452816,\n",
       "        5.8328561 ,  5.41459324,  5.60006489,  3.76152919,  5.82677655,\n",
       "        5.12768102,  4.48412201,  5.55011128,  4.59589863,  8.93615455,\n",
       "        6.54637672,  5.28549385,  6.77661288,  6.2106397 ,  5.62717555,\n",
       "        5.13885545,  5.95765529,  4.6182121 ,  7.27003169,  7.49691228,\n",
       "        6.92247439,  5.335418  ,  5.60285714,  5.13705655,  5.29435061,\n",
       "        6.99806749,  6.20538029,  7.1096279 ,  4.73825766,  5.06339044,\n",
       "        6.15305932,  5.05042599,  6.51802006,  5.0722837 ,  4.56768168,\n",
       "        2.93896452,  6.35943588,  5.87395836,  4.71675796,  5.13885545,\n",
       "        7.46218466,  5.21261268,  5.46995377,  5.19772167,  6.42019589,\n",
       "        5.26851656,  4.84247155,  8.05443781,  6.70232049,  7.47751376,\n",
       "        4.90292541,  5.13705655,  4.35771503,  5.70770065,  5.11450064,\n",
       "        7.55526963,  7.17707396,  3.54800183,  7.1197753 ,  5.86616743,\n",
       "        7.62426598,  4.12202937,  5.56496408,  7.13286481,  5.23378815,\n",
       "        7.0512889 ,  7.48023701,  5.20369567,  6.3358438 ,  4.14194273,\n",
       "        6.03410861,  5.90572973,  4.86923015,  7.40427822,  5.19208424,\n",
       "        4.14211219,  6.07490419,  6.16235452,  6.23406749,  4.78499267,\n",
       "        5.36144099,  7.27003169,  8.07107769,  5.28502999,  4.98533231,\n",
       "        4.56384046,  6.63445307,  6.12346594,  6.31202946,  1.18174931,\n",
       "        6.67320775,  6.38812349, 10.78640354,  5.53783908,  7.20681766,\n",
       "        6.21505101,  5.16311147,  6.85414105,  4.97115444,  4.72658464,\n",
       "        5.713677  ,  5.35451324,  6.13426605,  5.48729291,  6.21560382,\n",
       "        5.24840567,  8.53504201,  6.93504996,  6.49329563,  5.39515664,\n",
       "        5.36144099,  4.12911111,  6.55405613,  5.06419948,  5.03040695,\n",
       "        6.05175911,  6.28447313,  5.09172888,  5.37977932,  6.98660469,\n",
       "        5.13300108,  7.08357329,  4.3948208 ,  5.34163327,  6.24107832,\n",
       "        5.44123521,  5.83132523,  5.25019358,  6.27879628,  4.27220656,\n",
       "        4.17080768,  4.90064162,  5.41885317,  2.84857753,  3.47234765,\n",
       "        6.40606194,  8.19084827,  8.05443781,  7.36389609,  4.66574968,\n",
       "        5.96212174,  6.91500554,  5.16804043,  8.39340954,  8.07107769,\n",
       "        7.25935625,  6.27042407,  4.99575056,  5.01667462,  8.15753802,\n",
       "        7.48023701,  4.9300628 ,  8.3525077 ,  4.87298077,  5.42831933,\n",
       "        4.09074575,  5.27132609,  8.05443781,  7.08302043,  6.60789986,\n",
       "        4.32899304,  6.37250449,  8.3525077 ,  5.62234498,  6.6740383 ,\n",
       "        5.69652215,  4.91656954,  2.42757354,  4.74660754,  6.08170677,\n",
       "        4.74697813,  6.25808874,  5.28548994,  5.84941979,  5.29435061,\n",
       "        8.19647352,  6.85414105,  5.83772921,  6.7769017 ,  3.43311439,\n",
       "        5.95935218,  6.74402908,  6.92679446,  8.93615455,  4.5196887 ,\n",
       "        7.44538757,  5.18273825,  6.10934679,  4.48227566,  6.96846881,\n",
       "        5.73329756,  6.32866633,  5.85485515,  7.25935625,  6.23194543,\n",
       "        7.35288915,  6.20426448,  5.55626044,  2.40817261,  4.8779673 ,\n",
       "        5.61846576,  4.11391238,  5.60285714,  5.78998586,  8.53504201,\n",
       "        6.74101361,  7.03041506,  6.43804286,  7.58443307,  5.88178788,\n",
       "        8.07107769,  4.84877682,  6.74731058,  5.30104213,  5.15555915,\n",
       "        4.79334464,  4.62656873,  4.56307209,  6.00483797,  5.43960508,\n",
       "        3.98309191,  6.13260831,  4.87604748,  5.11940109,  6.01018811,\n",
       "        7.93233981,  5.06083632,  4.87055579,  6.23194543,  5.77159304,\n",
       "        4.20086723,  5.63614744,  6.7467191 ,  5.19246923,  5.69854224,\n",
       "        5.77409124,  6.42095745,  7.1652884 ,  4.75005502,  7.34208741,\n",
       "        5.63644672,  7.16313544,  5.4847926 ,  5.16135514,  6.88903479,\n",
       "        4.70640528,  5.66809058,  8.01638221,  4.58710813,  5.22055642,\n",
       "        6.63228864,  6.0605095 ,  7.1652884 ,  5.63642139,  4.50867541,\n",
       "        6.59157819,  6.64035108,  5.49814418,  6.51802006,  5.00746021,\n",
       "        5.77321465,  8.06776684,  6.08173119,  4.77316243,  5.00132385,\n",
       "        5.23879799,  6.059684  ,  5.52724244,  3.74658801,  4.92363859,\n",
       "        5.73110037,  5.65761683,  5.55774775,  5.88552323,  4.09074575,\n",
       "        4.60482091,  4.92793281,  5.94060949,  5.76543024,  5.80579831,\n",
       "        7.35288915,  7.35288915,  4.6182121 ,  7.81207959,  5.55076137,\n",
       "        5.93500695,  4.17080768,  4.38085127,  5.22587577,  5.02594109,\n",
       "        6.36754599,  4.84180606,  5.92882946,  4.96085542,  5.15143381,\n",
       "        5.95290122,  4.35833562,  4.54899086,  7.48023701,  5.0581875 ,\n",
       "        8.10012313,  5.17144854,  6.23414651,  3.10803488,  4.23341114,\n",
       "        6.91728658,  6.43232045,  7.79209812,  9.06656006,  9.06656006,\n",
       "        7.33950546,  6.6321665 ,  6.20538029,  5.87606157,  5.97899816,\n",
       "        5.69206822,  6.2824376 ,  5.36459969,  4.98304854,  7.20459008,\n",
       "        5.70277201,  4.49712963,  4.4816968 ,  4.92709621,  7.97215644,\n",
       "        7.08357329,  3.79780036,  7.0543305 ,  7.48023701,  6.81033432,\n",
       "        5.15354457,  3.06299418,  5.50416269,  4.42876448,  4.76279001,\n",
       "        5.42681233,  4.7233931 ,  7.371414  ,  6.55073009,  6.24780442,\n",
       "        5.63605601,  6.48953088,  5.19793163,  4.38356604,  2.93896452,\n",
       "        5.39020275,  6.6740383 ,  5.36144099,  4.85295321,  5.10259922,\n",
       "        5.21849299,  5.53950439,  7.04462942,  6.11783985, 10.78198492,\n",
       "        5.05042599,  4.17080768,  6.31756001,  5.40899162,  5.2865876 ,\n",
       "        5.63986698,  8.08001794,  5.69779368,  5.14322793,  5.98246568,\n",
       "        6.51854651,  8.51332099,  8.41229553,  6.74219557,  2.820211  ,\n",
       "        5.41394744,  6.87704252,  5.50169969,  3.1987424 ,  5.28502999,\n",
       "        5.97276849,  7.85369254,  6.22547343,  4.71658809,  5.86343144,\n",
       "        6.0323485 ,  5.08715771,  5.34375435,  4.37195289,  4.75663961,\n",
       "        5.64370418,  4.95450329,  5.83208279,  6.35207464,  4.32899304,\n",
       "        5.76452778,  5.02596374,  7.19388338,  3.80837683,  4.79019866,\n",
       "        5.09059519,  6.56359586,  5.02630584,  7.99601707,  8.05672003,\n",
       "        4.89961072,  4.27299688,  6.07646103,  7.71572628,  5.08715771,\n",
       "        5.80351065,  6.7769017 ,  3.0406084 ,  5.26851656,  5.885068  ,\n",
       "        4.80982495,  4.73155136,  5.87136242,  5.69949947,  5.45748442,\n",
       "        4.9866418 ,  3.47234765,  5.88217829,  7.06579335,  5.1209549 ,\n",
       "        9.27550178,  5.57894607,  3.9503501 ,  7.21623054,  7.63139546,\n",
       "        5.71556331,  6.05250334,  7.43873385,  4.65330403,  6.19824938,\n",
       "        4.75976776,  4.56077573,  5.87924202,  4.88780587,  6.45311245,\n",
       "        6.92679446,  5.34008569,  7.54310367,  5.97881775,  3.96460857,\n",
       "        5.68004515,  5.94335266,  6.23194543,  5.01667462,  5.70388399,\n",
       "        5.20279907,  6.20988366,  4.68016817,  4.91253037,  4.70805049,\n",
       "        5.55011128,  2.92601712,  4.46030063,  6.63237808,  5.60755722,\n",
       "        7.04839753,  4.02982427,  7.20908144,  7.12800623,  6.59473037,\n",
       "        6.86304875,  5.14955629,  5.16910962,  6.59157819,  6.67672738,\n",
       "        6.54983818,  4.73969447,  5.68753505,  4.70605385,  6.94503447,\n",
       "        7.44646316,  3.99604483,  5.98649915,  6.92081223,  3.59971597,\n",
       "        5.51560705,  6.1300958 ,  4.90724214,  5.05041575,  6.39380206,\n",
       "        6.07282536,  4.07574755,  6.06537725,  6.51802006,  3.47234765,\n",
       "        6.03058497,  6.10009771,  7.58443307,  5.33356721,  6.83972364,\n",
       "        6.42924287,  6.65385882,  5.5684227 ,  5.54366116,  6.95574138,\n",
       "        4.16451904,  5.04341876,  4.71520072,  5.56048155,  5.94189014,\n",
       "        5.04584103,  6.40766655,  5.44950264,  5.7826137 ,  5.97907966,\n",
       "        6.23414651,  4.75806034,  5.96058496,  5.96286199,  6.70691787,\n",
       "        5.9154462 ,  4.9813455 ,  5.50986753,  4.66698148,  4.89354172,\n",
       "        5.76993919,  5.93684896,  3.10803488,  5.64820476,  4.30103   ,\n",
       "        3.19083061,  7.65577904,  4.79354713,  6.04565704,  7.39434272,\n",
       "        5.76018957,  3.96460857,  4.99243104,  3.54543174,  5.15395129,\n",
       "        3.06131523,  3.20063647,  4.30103   ,  7.21608709,  4.30533095,\n",
       "        5.71509007,  5.4162364 ,  5.35945221,  5.80351065,  5.58370747,\n",
       "        5.35131187,  6.78971701,  4.81972194,  2.820211  ,  6.63325754,\n",
       "        7.44646316,  5.46995377,  3.59971597,  4.41746367,  5.23576777,\n",
       "        4.79064079,  6.05036727,  5.78573343,  5.14450675,  6.05175911,\n",
       "        4.90724214,  6.02090177,  5.54460801,  6.55842131,  5.50636802,\n",
       "        5.00080119,  4.70640528,  4.2410312 ,  7.50987423,  8.10331816,\n",
       "        5.69095844,  6.09981558,  7.20681766,  6.04815466,  5.59953723,\n",
       "        5.02194045,  6.88871278,  6.28021065,  5.3548293 ,  5.98474337,\n",
       "        4.6182121 ,  5.90554779,  5.74372597,  4.70547168,  5.70120326,\n",
       "        8.94326821,  5.91210065,  5.28959858,  7.08357329,  6.52191486,\n",
       "        5.65004523,  4.74053572,  6.64092842,  5.97880008,  5.80351065,\n",
       "        8.15753802,  6.69238188,  6.2824376 ,  4.99074216,  5.22494793,\n",
       "        9.06656006,  5.96212174,  7.96905505,  5.60285714,  6.00951181,\n",
       "        4.9813455 ,  4.65204753,  3.9081074 ,  6.50776224,  7.81229243,\n",
       "        5.33097132,  5.0800891 ,  6.84978159,  4.32899304,  5.40676898,\n",
       "        5.77759688,  7.19475501,  5.70762409,  4.03784339,  6.12022922,\n",
       "        6.83836041,  4.96435475,  4.09074575,  7.05319315,  2.66808248,\n",
       "        5.94569496,  6.03468091,  3.96460857,  6.0808004 ,  3.68287135,\n",
       "        3.95585006, 10.32125364,  7.95961473,  5.26203833,  7.37253298,\n",
       "        5.61077007,  6.96197   ,  6.51802006,  5.83786326,  5.65813629,\n",
       "        6.45311245,  6.68991119,  7.20058401,  5.65987584])"
      ]
     },
     "execution_count": 16,
     "metadata": {},
     "output_type": "execute_result"
    }
   ],
   "source": [
    "Y_pred"
   ]
  },
  {
   "cell_type": "markdown",
   "metadata": {
    "colab_type": "text",
    "id": "LoLgjePyUXcv"
   },
   "source": [
    "## **6. Scatter Plot of Experimental vs Predicted pIC50 Values**"
   ]
  },
  {
   "cell_type": "code",
   "execution_count": 17,
   "metadata": {
    "colab": {
     "base_uri": "https://localhost:8080/",
     "height": 361
    },
    "colab_type": "code",
    "id": "hfqpfjxw3IAK",
    "outputId": "7206a3c7-eff9-4617-e9d9-d54dd0cfd29c"
   },
   "outputs": [
    {
     "name": "stderr",
     "output_type": "stream",
     "text": [
      "C:\\Users\\fbai_\\AppData\\Local\\Continuum\\anaconda3\\envs\\py38\\lib\\site-packages\\seaborn\\_decorators.py:36: FutureWarning: Pass the following variables as keyword args: x, y. From version 0.12, the only valid positional argument will be `data`, and passing other arguments without an explicit keyword will result in an error or misinterpretation.\n",
      "  warnings.warn(\n"
     ]
    },
    {
     "data": {
      "text/plain": [
       "<function matplotlib.pyplot.show(close=None, block=None)>"
      ]
     },
     "execution_count": 17,
     "metadata": {},
     "output_type": "execute_result"
    },
    {
     "data": {
      "image/png": "[encoded data removed]",
      "text/plain": [
       "<Figure size 500x500 with 1 Axes>"
      ]
     },
     "metadata": {},
     "output_type": "display_data"
    }
   ],
   "source": [
    "import seaborn as sns\n",
    "import matplotlib.pyplot as plt\n",
    "\n",
    "sns.set(color_codes=True)\n",
    "sns.set_style(\"white\")\n",
    "\n",
    "ax = sns.regplot(Y_test, Y_pred, scatter_kws={'alpha':0.4})\n",
    "ax.set_xlabel('Experimental pIC50', fontsize='large', fontweight='bold')\n",
    "ax.set_ylabel('Predicted pIC50', fontsize='large', fontweight='bold')\n",
    "ax.set_xlim(0, 12)\n",
    "ax.set_ylim(0, 12)\n",
    "ax.figure.set_size_inches(5, 5)\n",
    "plt.show"
   ]
  },
  {
   "cell_type": "code",
   "execution_count": null,
   "metadata": {},
   "outputs": [],
   "source": []
  }
 ],
 "metadata": {
  "colab": {
   "collapsed_sections": [],
   "name": "CDD-ML-Part-4-Acetylcholinesterase-Regression-Random-Forest.ipynb",
   "provenance": []
  },
  "kernelspec": {
   "display_name": "Python 3 (ipykernel)",
   "language": "python",
   "name": "python3"
  },
  "language_info": {
   "codemirror_mode": {
    "name": "ipython",
    "version": 3
   },
   "file_extension": ".py",
   "mimetype": "text/x-python",
   "name": "python",
   "nbconvert_exporter": "python",
   "pygments_lexer": "ipython3",
   "version": "3.8.13"
  }
 },
 "nbformat": 4,
 "nbformat_minor": 1
}
